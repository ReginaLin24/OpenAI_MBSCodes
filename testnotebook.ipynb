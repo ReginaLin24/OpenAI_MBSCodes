{
 "cells": [
  {
   "cell_type": "code",
   "execution_count": 1,
   "metadata": {},
   "outputs": [],
   "source": [
    "from django.shortcuts import render, redirect\n",
    "from django.http import HttpResponse\n",
    "from django.views.decorators.csrf import csrf_exempt\n",
    "from azure.core.credentials import AzureKeyCredential\n",
    "from azure.ai.textanalytics import (\n",
    "    TextAnalyticsClient,\n",
    "    AnalyzeHealthcareEntitiesAction,\n",
    "    RecognizePiiEntitiesAction,\n",
    ")\n",
    "import os\n",
    "from azure.search.documents import SearchClient\n",
    "from azure.appconfiguration.provider import (\n",
    "    load,\n",
    "    SettingSelector\n",
    ")\n",
    "import requests\n",
    "import json\n",
    "import openai\n",
    "from azure.keyvault.secrets import SecretClient\n",
    "from azure.identity import DefaultAzureCredential\n"
   ]
  },
  {
   "cell_type": "code",
   "execution_count": 2,
   "metadata": {},
   "outputs": [],
   "source": [
    "# Connect to key vault\n",
    "keyVaultName = \"aisnomed-kv\"\n",
    "KVUri = f\"https://{keyVaultName}.vault.azure.net\"\n",
    "credential = DefaultAzureCredential()\n",
    "client = SecretClient(vault_url=KVUri, credential=credential)\n"
   ]
  },
  {
   "cell_type": "code",
   "execution_count": 3,
   "metadata": {},
   "outputs": [],
   "source": [
    "key = client.get_secret(\"textanalyticskey\").value\n",
    "endpoint = client.get_secret(\"textanalyticsep\").value\n",
    "\n",
    "searchkey = client.get_secret(\"cogsearchkey\").value\n",
    "searchendpoint = client.get_secret(\"cogsearchep\").value\n",
    "searchindex = client.get_secret(\"cogsearchindex\").value\n",
    "\n",
    "openaideployment = client.get_secret(\"azureopenaideployment\").value\n",
    "openai.api_type = \"azure\"\n",
    "openai.api_base = client.get_secret(\"azureopenaiep\").value\n",
    "openai.api_version = \"2023-05-15\"\n",
    "openai.api_key = client.get_secret(\"azureopenaikey\").value"
   ]
  },
  {
   "cell_type": "code",
   "execution_count": null,
   "metadata": {},
   "outputs": [],
   "source": []
  }
 ],
 "metadata": {
  "kernelspec": {
   "display_name": "Python 3",
   "language": "python",
   "name": "python3"
  },
  "language_info": {
   "codemirror_mode": {
    "name": "ipython",
    "version": 3
   },
   "file_extension": ".py",
   "mimetype": "text/x-python",
   "name": "python",
   "nbconvert_exporter": "python",
   "pygments_lexer": "ipython3",
   "version": "3.10.11"
  },
  "orig_nbformat": 4
 },
 "nbformat": 4,
 "nbformat_minor": 2
}
